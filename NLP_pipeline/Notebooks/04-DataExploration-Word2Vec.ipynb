{
 "cells": [
  {
   "cell_type": "markdown",
   "metadata": {},
   "source": [
    "<h3>Dependencies</h3>"
   ]
  },
  {
   "cell_type": "code",
   "execution_count": 1,
   "metadata": {},
   "outputs": [],
   "source": [
    "from sklearn.decomposition import TruncatedSVD\n",
    "from gensim.models import word2vec\n",
    "import matplotlib.pyplot as plt\n",
    "import random\n",
    "import csv\n",
    "import numpy as np"
   ]
  },
  {
   "cell_type": "markdown",
   "metadata": {},
   "source": [
    "<h3>Working with Text Data: Word Vectors</h3>"
   ]
  },
  {
   "cell_type": "markdown",
   "metadata": {},
   "source": [
    "<em>Recommended to read: https://radimrehurek.com/gensim/auto_examples/tutorials/run_word2vec.html </em>\n",
    "\n",
    "<em>In addition to Gensim tutorial, code snippets re-utilized from Assignment 1 in http://web.stanford.edu/class/cs224n/index.html#schedule </em>"
   ]
  },
  {
   "cell_type": "code",
   "execution_count": 2,
   "metadata": {},
   "outputs": [],
   "source": [
    "def w2v(corpus):\n",
    "    \n",
    "    \"\"\"\n",
    "    Selection of training parameters was done base on iterations of different values\n",
    "    \n",
    "    Input: Corpus of Type List []\n",
    "    \n",
    "    Output: Word to vector Model\n",
    "    \n",
    "    Model Parameters:\n",
    "    - size (feature_size): Sets the N-Dimensional space where the words are mapped onto; Number of Dimensions\n",
    "    - window (context_window): the number of tokens to the left and right of the word that we want to predict in\n",
    "      the CBOW model\n",
    "    - min_count: minimun number of times a word  must appear in the corpus to be taken into account\n",
    "    - sample: diminish the impact of high frequency words (appear too often)\n",
    "    \n",
    "    \"\"\"\n",
    "    \n",
    "    feature_size = 50\n",
    "    context_window = 10\n",
    "    min_word_count = 10\n",
    "    sample = 1e-3\n",
    "    \n",
    "    w2v_chat_model = word2vec.Word2Vec([corpus], size= feature_size, window= context_window, \\\n",
    "                                      min_count= min_word_count, sample=sample, iter=50)\n",
    "    \n",
    "    return w2v_chat_model\n",
    "\n",
    "\n",
    "def get_matrix_of_vectors_short(wv_from_chat):\n",
    "    \n",
    "    \"\"\"\n",
    "    \n",
    "    Input: wv_from_chat\n",
    "    Word Vectors Object obtained from the model using method .wv (word_vectors = model.wv )\n",
    "    \n",
    "    Output: M, word2Ind\n",
    "    M: Matrix of Word vectors stacked of type Numpy Array\n",
    "    word2Ind: Dictionary mapping each word to its row number in matrix M\n",
    "    \n",
    "    \"\"\"\n",
    "    words = list(wv_from_chat.vocab.keys())\n",
    "    random.shuffle(words)\n",
    "    print(\"Creating matrix of Word Vectors, putting %i words into Word2Ind\"% len(words))\n",
    "    word2Ind = {}\n",
    "    cur_ind = 0\n",
    "    M = []\n",
    "    \n",
    "    for w in words:\n",
    "        try:\n",
    "            M.append(wv_from_chat.word_vec(w))\n",
    "            word2Ind[w] = cur_ind\n",
    "            cur_ind +=1\n",
    "            \n",
    "        except KeyError:\n",
    "            continue\n",
    "            \n",
    "    M = np.stack(M)\n",
    "    print(\"done\")\n",
    "    \n",
    "    return M, word2Ind"
   ]
  },
  {
   "cell_type": "code",
   "execution_count": 120,
   "metadata": {},
   "outputs": [],
   "source": [
    "def reduce_to_k_dim(M, k=2):\n",
    "    \"\"\" Reduce a co-occurence count matrix of dimensionality (num_corpus_words, num_corpus_words)\n",
    "        to a matrix of dimensionality (num_corpus_words, k) using the following SVD function from Scikit-Learn:\n",
    "            - http://scikit-learn.org/stable/modules/generated/sklearn.decomposition.TruncatedSVD.html\n",
    "    \n",
    "        Params:\n",
    "            M (numpy matrix of shape (number of corpus words, number of corpus words)): co-occurence matrix of word counts\n",
    "            k (int): embedding size of each word after dimension reduction\n",
    "        Return:\n",
    "            M_reduced (numpy matrix of shape (number of corpus words, k)): matrix of k-dimensioal word embeddings.\n",
    "                    In terms of the SVD from math class, this actually returns U * S\n",
    "    \"\"\"    \n",
    "    n_iters = 10     # Use this parameter in your call to `TruncatedSVD`\n",
    "    M_reduced = None\n",
    "    print(\"Running Truncated SVD over %i words...\" % (M.shape[0]))\n",
    "    \n",
    "    M_reduced = TruncatedSVD(n_components=k, n_iter=n_iters)\n",
    "    M_reduced = M_reduced.fit_transform(M)\n",
    "    \n",
    "    print(\"Done.\")\n",
    "    return M_reduced\n",
    "\n",
    "\n",
    "def plot_embeddings(M_reduced, word2Ind, words):\n",
    "    \"\"\" Plot in a scatterplot the embeddings of the words specified in the list \"words\".\n",
    "        NOTE: do not plot all the words listed in M_reduced / word2Ind.\n",
    "        Include a label next to each point.\n",
    "        \n",
    "        Params:\n",
    "            M_reduced (numpy matrix of shape (number of unique words in the corpus , k)): matrix of k-dimensioal word embeddings\n",
    "            word2Ind (dict): dictionary that maps word to indices for matrix M\n",
    "            words (list of strings): words whose embeddings we want to visualize\n",
    "    \"\"\"\n",
    "\n",
    "    \n",
    "    print(words, 'entry words')\n",
    "    \n",
    "    for i, word_t in enumerate(words):\n",
    "        index = word2Ind[word_t]\n",
    "        embedding = M_reduced[index]\n",
    "        x_coord = embedding[0]\n",
    "        y_coord = embedding[1]\n",
    "        x = x_coord\n",
    "        y = y_coord\n",
    "        \n",
    "        plt.scatter(x, y, marker ='x', color ='red')\n",
    "        plt.text(x, y, word_t, fontsize=9)\n",
    "    plt.show()\n",
    "\n",
    "    # -----------------"
   ]
  },
  {
   "cell_type": "markdown",
   "metadata": {},
   "source": [
    "<h3>Loading the dataset </h3>"
   ]
  },
  {
   "cell_type": "code",
   "execution_count": 4,
   "metadata": {},
   "outputs": [],
   "source": [
    "with open('dialogue.csv') as dialogue:\n",
    "    corpus_reader = csv.reader(dialogue)\n",
    "    corpus = [tokens for tokens in corpus_reader][0]\n",
    "    "
   ]
  },
  {
   "cell_type": "markdown",
   "metadata": {},
   "source": [
    "<h3>Calculating the model and word vectors</h3>"
   ]
  },
  {
   "cell_type": "code",
   "execution_count": 5,
   "metadata": {},
   "outputs": [],
   "source": [
    "model = w2v(corpus)\n",
    "word_vectors = model.wv "
   ]
  },
  {
   "cell_type": "markdown",
   "metadata": {},
   "source": [
    "<h3> Word vector as a Matrix</h3>"
   ]
  },
  {
   "cell_type": "code",
   "execution_count": 7,
   "metadata": {},
   "outputs": [
    {
     "name": "stdout",
     "output_type": "stream",
     "text": [
      "Creating matrix of Word Vectors, putting 1485 words into Word2Ind\n",
      "done\n"
     ]
    }
   ],
   "source": [
    "M, word2Ind = get_matrix_of_vectors_short(word_vectors)"
   ]
  },
  {
   "cell_type": "markdown",
   "metadata": {},
   "source": [
    "<h3>Dimensionality Reduction: SVD</h3>\n",
    "<p> We do this to reduce dimensionality and be able to plot the word vector in 2-D, by using Singular Value Decomposition, what we aim to achieve is that by using the singular values and vectors we can aproximate to the higher dimension matrix using a lower rank version of it. </p>"
   ]
  },
  {
   "cell_type": "code",
   "execution_count": 8,
   "metadata": {},
   "outputs": [
    {
     "name": "stdout",
     "output_type": "stream",
     "text": [
      "Running Truncated SVD over 1485 words...\n",
      "Done.\n"
     ]
    }
   ],
   "source": [
    "M_reduced = reduce_to_k_dim(M, k=2)"
   ]
  },
  {
   "cell_type": "code",
   "execution_count": 121,
   "metadata": {},
   "outputs": [
    {
     "name": "stdout",
     "output_type": "stream",
     "text": [
      "['steffen', 'lukas', 'martin', 'wings', 'chicken', 'drink', 'jesus', 'bike', 'beer', 'work'] entry words\n"
     ]
    },
    {
     "data": {
      "image/png": "[encoded data removed]",
      "text/plain": [
       "<Figure size 432x288 with 1 Axes>"
      ]
     },
     "metadata": {
      "needs_background": "light"
     },
     "output_type": "display_data"
    }
   ],
   "source": [
    "words = ['steffen', 'lukas', 'martin', 'wings', 'chicken', 'drink', 'jesus', 'bike', 'beer', 'work']\n",
    "plot_embeddings(M_reduced, word2Ind, words)"
   ]
  },
  {
   "cell_type": "code",
   "execution_count": 13,
   "metadata": {},
   "outputs": [
    {
     "data": {
      "text/plain": [
       "array([0.0078161 , 0.00121476], dtype=float32)"
      ]
     },
     "execution_count": 13,
     "metadata": {},
     "output_type": "execute_result"
    }
   ],
   "source": [
    "M_reduced[0]"
   ]
  }
 ],
 "metadata": {
  "kernelspec": {
   "display_name": "Python 3",
   "language": "python",
   "name": "python3"
  },
  "language_info": {
   "codemirror_mode": {
    "name": "ipython",
    "version": 3
   },
   "file_extension": ".py",
   "mimetype": "text/x-python",
   "name": "python",
   "nbconvert_exporter": "python",
   "pygments_lexer": "ipython3",
   "version": "3.6.8"
  }
 },
 "nbformat": 4,
 "nbformat_minor": 2
}
