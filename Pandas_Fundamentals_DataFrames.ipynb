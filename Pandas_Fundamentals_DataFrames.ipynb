{
  "nbformat": 4,
  "nbformat_minor": 0,
  "metadata": {
    "colab": {
      "name": "Pandas Fundamentals DataFrames.ipynb",
      "version": "0.3.2",
      "provenance": [],
      "include_colab_link": true
    },
    "kernelspec": {
      "name": "python3",
      "display_name": "Python 3"
    }
  },
  "cells": [
    {
      "cell_type": "markdown",
      "metadata": {
        "id": "view-in-github",
        "colab_type": "text"
      },
      "source": [
        "<a href=\"https://colab.research.google.com/github/WilliamGalindezArias/data_wrangling/blob/master/Pandas_Fundamentals_DataFrames.ipynb\" target=\"_parent\"><img src=\"https://colab.research.google.com/assets/colab-badge.svg\" alt=\"Open In Colab\"/></a>"
      ]
    },
    {
      "cell_type": "markdown",
      "metadata": {
        "id": "sSjJPsAMB0Xh",
        "colab_type": "text"
      },
      "source": [
        "**Pandas** <br>\n",
        "DataFrame Part I <br>\n",
        "Continuing with the second data structure introduced by Pandas, we encounter the DataFrame, this one  could be defined as a two-dimension structure with labeled rows and columns.\n",
        "\n",
        "In this short notebook, these topics will be covered:\n",
        "\n",
        "\n",
        "1.   DataFrame Creation: Manual from a Python Dictionary\n",
        "2.   DataFrame methods\n",
        "3.   Dealing with NaN\n",
        "4.   Accessing data in a DataFrame\n",
        "\n"
      ]
    },
    {
      "cell_type": "markdown",
      "metadata": {
        "id": "5nQm9CcxEPX8",
        "colab_type": "text"
      },
      "source": [
        "1. DataFrame creation <br>\n",
        "As in the previous lesson, we start by importing the library:"
      ]
    },
    {
      "cell_type": "code",
      "metadata": {
        "id": "j82CFX6wLPl8",
        "colab_type": "code",
        "colab": {}
      },
      "source": [
        "import pandas as pd"
      ],
      "execution_count": 0,
      "outputs": []
    },
    {
      "cell_type": "markdown",
      "metadata": {
        "id": "ktDhHkL7EcBo",
        "colab_type": "text"
      },
      "source": [
        "We create a small dataset, and from this one we create a pandas Series:"
      ]
    },
    {
      "cell_type": "code",
      "metadata": {
        "id": "hU8apVND8Liq",
        "colab_type": "code",
        "colab": {}
      },
      "source": [
        "data_0 = [5, 4, 3, 'No', 'No']\n",
        "index_0 = ['cats', 'dogs', 'rabbits', 'Adopted?', 'Older than 1 year?']"
      ],
      "execution_count": 0,
      "outputs": []
    },
    {
      "cell_type": "code",
      "metadata": {
        "id": "_jbqOIq4-0AT",
        "colab_type": "code",
        "colab": {}
      },
      "source": [
        "data_1 = [3, 2, 1, 'Yes']\n",
        "index_1 = ['cats', 'dogs', 'rabbits', 'Adopted?']"
      ],
      "execution_count": 0,
      "outputs": []
    },
    {
      "cell_type": "markdown",
      "metadata": {
        "id": "YRUfEXqHErxq",
        "colab_type": "text"
      },
      "source": [
        "Pandas Series:"
      ]
    },
    {
      "cell_type": "code",
      "metadata": {
        "id": "RxiIUhfH93t5",
        "colab_type": "code",
        "colab": {}
      },
      "source": [
        "pet_store_0 = pd.Series(data=data_0, index=index_0)\n",
        "pet_store_1 = pd.Series(data=data_1, index= index_1)"
      ],
      "execution_count": 0,
      "outputs": []
    },
    {
      "cell_type": "markdown",
      "metadata": {
        "id": "1XooF-9SExIX",
        "colab_type": "text"
      },
      "source": [
        "Once the pandas series have been created, let us create a dictionary of series:"
      ]
    },
    {
      "cell_type": "code",
      "metadata": {
        "id": "WZFe9ZPa998o",
        "colab_type": "code",
        "colab": {}
      },
      "source": [
        "pet_stores = {'Main': pet_store_0, 'Branch': pet_store_1}"
      ],
      "execution_count": 0,
      "outputs": []
    },
    {
      "cell_type": "markdown",
      "metadata": {
        "id": "1aIJEKVGE-Z4",
        "colab_type": "text"
      },
      "source": [
        "Let us recap, we want to create a two-dimension structure, for such task, we will use the DataFrame <br>function and pass to it the data we manually created.<br>\n",
        "Data Frame Function:<br>\n",
        "Syntax:<br> pd.DataFrame(data we pass)\n"
      ]
    },
    {
      "cell_type": "code",
      "metadata": {
        "id": "vRuDlZVw_42r",
        "colab_type": "code",
        "colab": {}
      },
      "source": [
        "my_dataframe = pd.DataFrame(pet_stores)"
      ],
      "execution_count": 0,
      "outputs": []
    },
    {
      "cell_type": "code",
      "metadata": {
        "id": "_qOUcQeP_6XT",
        "colab_type": "code",
        "colab": {
          "base_uri": "https://localhost:8080/",
          "height": 204
        },
        "outputId": "69d9d4d1-2719-4d32-beb2-3b2a3bd219b1"
      },
      "source": [
        "my_dataframe"
      ],
      "execution_count": 24,
      "outputs": [
        {
          "output_type": "execute_result",
          "data": {
            "text/html": [
              "<div>\n",
              "<style scoped>\n",
              "    .dataframe tbody tr th:only-of-type {\n",
              "        vertical-align: middle;\n",
              "    }\n",
              "\n",
              "    .dataframe tbody tr th {\n",
              "        vertical-align: top;\n",
              "    }\n",
              "\n",
              "    .dataframe thead th {\n",
              "        text-align: right;\n",
              "    }\n",
              "</style>\n",
              "<table border=\"1\" class=\"dataframe\">\n",
              "  <thead>\n",
              "    <tr style=\"text-align: right;\">\n",
              "      <th></th>\n",
              "      <th>Main</th>\n",
              "      <th>Branch</th>\n",
              "    </tr>\n",
              "  </thead>\n",
              "  <tbody>\n",
              "    <tr>\n",
              "      <th>Adopted?</th>\n",
              "      <td>No</td>\n",
              "      <td>Yes</td>\n",
              "    </tr>\n",
              "    <tr>\n",
              "      <th>Older than 1 year?</th>\n",
              "      <td>No</td>\n",
              "      <td>NaN</td>\n",
              "    </tr>\n",
              "    <tr>\n",
              "      <th>cats</th>\n",
              "      <td>5</td>\n",
              "      <td>3</td>\n",
              "    </tr>\n",
              "    <tr>\n",
              "      <th>dogs</th>\n",
              "      <td>4</td>\n",
              "      <td>2</td>\n",
              "    </tr>\n",
              "    <tr>\n",
              "      <th>rabbits</th>\n",
              "      <td>3</td>\n",
              "      <td>1</td>\n",
              "    </tr>\n",
              "  </tbody>\n",
              "</table>\n",
              "</div>"
            ],
            "text/plain": [
              "                   Main Branch\n",
              "Adopted?             No    Yes\n",
              "Older than 1 year?   No    NaN\n",
              "cats                  5      3\n",
              "dogs                  4      2\n",
              "rabbits               3      1"
            ]
          },
          "metadata": {
            "tags": []
          },
          "execution_count": 24
        }
      ]
    },
    {
      "cell_type": "markdown",
      "metadata": {
        "id": "mwVFaKF1MNC9",
        "colab_type": "text"
      },
      "source": [
        "As can be seen in the output above, we have created a Two-Dimension structure with labels in the rows and columns. The Columns Labels are created from the dictionary keys and the row labels from the Series Indices."
      ]
    },
    {
      "cell_type": "markdown",
      "metadata": {
        "id": "r7We2KpwMY73",
        "colab_type": "text"
      },
      "source": [
        "**2. DataFrame Methods**<br>\n",
        "Some basic methods:<br>\n",
        "\n",
        "\n",
        "1.   DataFrame.shape\n",
        "2.   DataFrame.size\n",
        "3.   DataFrame.ndim\n",
        "4.   DataFrame.values\n",
        "5.   DataFrame.columns\n",
        "6.   DataFrame.index\n",
        "\n",
        "\n",
        "\n"
      ]
    },
    {
      "cell_type": "code",
      "metadata": {
        "id": "YMeaAVfmMDEh",
        "colab_type": "code",
        "colab": {
          "base_uri": "https://localhost:8080/",
          "height": 187
        },
        "outputId": "eaaf6757-2d4d-4faa-af11-5f065f339f88"
      },
      "source": [
        "print(\"Shape Method: \", my_dataframe.shape, \"(Rows, Cols)\")\n",
        "print(\"Size Method: \", my_dataframe.size, \"Number of elements\")\n",
        "print(\"Dimension Method: \", my_dataframe.ndim)\n",
        "print(\"Values Method: \", my_dataframe.values)\n",
        "print(\"Columns  Method: \", my_dataframe.columns)\n",
        "print(\"Index Method: \", my_dataframe.index)"
      ],
      "execution_count": 27,
      "outputs": [
        {
          "output_type": "stream",
          "text": [
            "Shape Method:  (5, 2) (Rows, Cols)\n",
            "Size Method:  10 Number of elements\n",
            "Dimension Method:  2\n",
            "Values Method:  [['No' 'Yes']\n",
            " ['No' nan]\n",
            " [5 3]\n",
            " [4 2]\n",
            " [3 1]]\n",
            "Columns  Method:  Index(['Main', 'Branch'], dtype='object')\n",
            "Index Method:  Index(['Adopted?', 'Older than 1 year?', 'cats', 'dogs', 'rabbits'], dtype='object')\n"
          ],
          "name": "stdout"
        }
      ]
    },
    {
      "cell_type": "markdown",
      "metadata": {
        "id": "a9Rb-oxFSSAM",
        "colab_type": "text"
      },
      "source": [
        "**2.1 Column and Index Keywords <br>**\n",
        "In the pet store example from this notebook, a dataframe was created using as data source a Python Dictionary, and the whole data set was displayed, given the fact that this dataframe is small there was not any inconvenience in readability, nevertheless there will be cases where only certain columns or rows are of importance to be observed in the dataframe (subset)."
      ]
    },
    {
      "cell_type": "code",
      "metadata": {
        "id": "aF9y9kHZSQ3s",
        "colab_type": "code",
        "colab": {
          "base_uri": "https://localhost:8080/",
          "height": 204
        },
        "outputId": "30344293-b9cf-47e1-b91a-d8571bb7f87b"
      },
      "source": [
        "main_store_df = pd.DataFrame(pet_stores, columns=['Main'])\n",
        "main_store_df"
      ],
      "execution_count": 30,
      "outputs": [
        {
          "output_type": "execute_result",
          "data": {
            "text/html": [
              "<div>\n",
              "<style scoped>\n",
              "    .dataframe tbody tr th:only-of-type {\n",
              "        vertical-align: middle;\n",
              "    }\n",
              "\n",
              "    .dataframe tbody tr th {\n",
              "        vertical-align: top;\n",
              "    }\n",
              "\n",
              "    .dataframe thead th {\n",
              "        text-align: right;\n",
              "    }\n",
              "</style>\n",
              "<table border=\"1\" class=\"dataframe\">\n",
              "  <thead>\n",
              "    <tr style=\"text-align: right;\">\n",
              "      <th></th>\n",
              "      <th>Main</th>\n",
              "    </tr>\n",
              "  </thead>\n",
              "  <tbody>\n",
              "    <tr>\n",
              "      <th>cats</th>\n",
              "      <td>5</td>\n",
              "    </tr>\n",
              "    <tr>\n",
              "      <th>dogs</th>\n",
              "      <td>4</td>\n",
              "    </tr>\n",
              "    <tr>\n",
              "      <th>rabbits</th>\n",
              "      <td>3</td>\n",
              "    </tr>\n",
              "    <tr>\n",
              "      <th>Adopted?</th>\n",
              "      <td>No</td>\n",
              "    </tr>\n",
              "    <tr>\n",
              "      <th>Older than 1 year?</th>\n",
              "      <td>No</td>\n",
              "    </tr>\n",
              "  </tbody>\n",
              "</table>\n",
              "</div>"
            ],
            "text/plain": [
              "                   Main\n",
              "cats                  5\n",
              "dogs                  4\n",
              "rabbits               3\n",
              "Adopted?             No\n",
              "Older than 1 year?   No"
            ]
          },
          "metadata": {
            "tags": []
          },
          "execution_count": 30
        }
      ]
    },
    {
      "cell_type": "markdown",
      "metadata": {
        "id": "t0d4X_8LT7_k",
        "colab_type": "text"
      },
      "source": [
        "As can be observed in the output above, a new dataframe was created using only a subset of the data, in this case the column corresponding to 'Main'"
      ]
    },
    {
      "cell_type": "code",
      "metadata": {
        "id": "jY_9w-2QUTRR",
        "colab_type": "code",
        "colab": {
          "base_uri": "https://localhost:8080/",
          "height": 111
        },
        "outputId": "c40980c9-d9b6-4cab-ee7f-f3ab69fa2ef9"
      },
      "source": [
        "branch_store_df = pd.DataFrame(pet_stores, index=['cats', 'Adopted?'])\n",
        "branch_store_df"
      ],
      "execution_count": 32,
      "outputs": [
        {
          "output_type": "execute_result",
          "data": {
            "text/html": [
              "<div>\n",
              "<style scoped>\n",
              "    .dataframe tbody tr th:only-of-type {\n",
              "        vertical-align: middle;\n",
              "    }\n",
              "\n",
              "    .dataframe tbody tr th {\n",
              "        vertical-align: top;\n",
              "    }\n",
              "\n",
              "    .dataframe thead th {\n",
              "        text-align: right;\n",
              "    }\n",
              "</style>\n",
              "<table border=\"1\" class=\"dataframe\">\n",
              "  <thead>\n",
              "    <tr style=\"text-align: right;\">\n",
              "      <th></th>\n",
              "      <th>Main</th>\n",
              "      <th>Branch</th>\n",
              "    </tr>\n",
              "  </thead>\n",
              "  <tbody>\n",
              "    <tr>\n",
              "      <th>cats</th>\n",
              "      <td>5</td>\n",
              "      <td>3</td>\n",
              "    </tr>\n",
              "    <tr>\n",
              "      <th>Adopted?</th>\n",
              "      <td>No</td>\n",
              "      <td>Yes</td>\n",
              "    </tr>\n",
              "  </tbody>\n",
              "</table>\n",
              "</div>"
            ],
            "text/plain": [
              "         Main Branch\n",
              "cats        5      3\n",
              "Adopted?   No    Yes"
            ]
          },
          "metadata": {
            "tags": []
          },
          "execution_count": 32
        }
      ]
    },
    {
      "cell_type": "markdown",
      "metadata": {
        "id": "FjsBkRJEUr0f",
        "colab_type": "text"
      },
      "source": [
        "Likewise, by utilizing the 'index' Keyword, a new dataframe has been created with a subset given by the labels passed to the index at the moment of the structure creation."
      ]
    },
    {
      "cell_type": "code",
      "metadata": {
        "id": "YwhYWshDGhzo",
        "colab_type": "code",
        "colab": {}
      },
      "source": [
        ""
      ],
      "execution_count": 0,
      "outputs": []
    }
  ]
}