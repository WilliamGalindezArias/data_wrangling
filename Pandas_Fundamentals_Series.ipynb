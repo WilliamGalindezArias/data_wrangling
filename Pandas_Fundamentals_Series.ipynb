{
  "nbformat": 4,
  "nbformat_minor": 0,
  "metadata": {
    "colab": {
      "name": "Pandas Fundamentals Series.ipynb",
      "version": "0.3.2",
      "provenance": [],
      "include_colab_link": true
    },
    "kernelspec": {
      "name": "python3",
      "display_name": "Python 3"
    }
  },
  "cells": [
    {
      "cell_type": "markdown",
      "metadata": {
        "id": "view-in-github",
        "colab_type": "text"
      },
      "source": [
        "<a href=\"https://colab.research.google.com/github/WilliamGalindezArias/data_wrangling/blob/master/Pandas_Fundamentals_Series.ipynb\" target=\"_parent\"><img src=\"https://colab.research.google.com/assets/colab-badge.svg\" alt=\"Open In Colab\"/></a>"
      ]
    },
    {
      "cell_type": "markdown",
      "metadata": {
        "id": "YjSlAbe3hGTd",
        "colab_type": "text"
      },
      "source": [
        "<h3> Pandas</h3>\n"
      ]
    },
    {
      "cell_type": "markdown",
      "metadata": {
        "id": "vnkVUrD3ddr9",
        "colab_type": "text"
      },
      "source": [
        "**Why Pandas?**\n",
        "\n",
        "Quality of data is just as important as the quantity, more often than not, the datasets don't come ready to be ingested in Learning Algorithms, the dataset will often have missing values, outliers, incorrect type of data, all those previous factor will affect the learning process and therefore affect the predictions intended, that is why is so important to develop the skill of being able to look at your data, manipulate it, run basic analysis and make sure is well suited for the learning algorithm chosen.\n",
        "\n",
        "\n",
        "**What is Pandas?**\n",
        "Pandas is a package for data manipulation and analysis. This package brings two additional data structures into Python, namely Series and DataFrame. Leveraging these structures allow us to work with **relational** and **labeled data**.\n",
        "\n",
        "\n",
        "**How to use it ?**\n",
        "\n",
        "In this notebook will be demonstrated how to perform basic and fundamental operations using pandas, such as:\n",
        "\n",
        "\n",
        "1.  Creation of Series and DataFrames\n",
        "\n",
        "2.  Accesing and changing elements in Series and DataFrames\n",
        "\n",
        "3.  Arithmetic operations on Series\n",
        "\n",
        "4.  Load data into DataFrames and dealing with **NaN** values\n",
        "\n"
      ]
    },
    {
      "cell_type": "markdown",
      "metadata": {
        "id": "fZC_bPsQhisZ",
        "colab_type": "text"
      },
      "source": [
        "**Data Structure #1 --  Creating a Pandas Series**"
      ]
    },
    {
      "cell_type": "markdown",
      "metadata": {
        "id": "DDBgCSFWjX9Q",
        "colab_type": "text"
      },
      "source": [
        "**Definition**: \n",
        "Pandas Series is a one dimension array-like object. Can hold different data types, and makes possible to assign an Index Label to each element in the Series. In other words, you can label your data whatever you want.\n",
        "\n",
        "**Syntax:**\n",
        "\n",
        "pd.Series(data, index)\n",
        "\n",
        "*Where:*\n",
        "\n",
        "Data = the values (numbers, strings ...) <br>\n",
        "index = the labels that correspond to each value"
      ]
    },
    {
      "cell_type": "code",
      "metadata": {
        "id": "Dp06i8Ltg4pp",
        "colab_type": "code",
        "colab": {}
      },
      "source": [
        "import pandas as pd"
      ],
      "execution_count": 0,
      "outputs": []
    },
    {
      "cell_type": "code",
      "metadata": {
        "id": "_UzVz6m6ihRq",
        "colab_type": "code",
        "colab": {}
      },
      "source": [
        "pets_data = [2, 3, 'No', 'Yes' ]\n",
        "pets_index = ['Cats', 'Dogs', 'Older than 1 Year', 'Vaccinated']"
      ],
      "execution_count": 0,
      "outputs": []
    },
    {
      "cell_type": "code",
      "metadata": {
        "id": "pJ1vG6K_guzh",
        "colab_type": "code",
        "colab": {}
      },
      "source": [
        "pets = pd.Series(data=pets_data, index=pets_index)"
      ],
      "execution_count": 0,
      "outputs": []
    },
    {
      "cell_type": "code",
      "metadata": {
        "id": "Ij1M13M_fMrW",
        "colab_type": "code",
        "colab": {
          "base_uri": "https://localhost:8080/",
          "height": 102
        },
        "outputId": "172b599b-c14a-438d-908a-4f7ab68a161c"
      },
      "source": [
        "pets"
      ],
      "execution_count": 19,
      "outputs": [
        {
          "output_type": "execute_result",
          "data": {
            "text/plain": [
              "Cats                   2\n",
              "Dogs                   3\n",
              "Older than 1 Year     No\n",
              "Vaccinated           Yes\n",
              "dtype: object"
            ]
          },
          "metadata": {
            "tags": []
          },
          "execution_count": 19
        }
      ]
    },
    {
      "cell_type": "markdown",
      "metadata": {
        "id": "g4Lx2yTdktI-",
        "colab_type": "text"
      },
      "source": [
        "**Some methods in Pandas Series** \n",
        "\n",
        "<li> series.size\n",
        "<li> series.ndim\n",
        "<li> series.shape"
      ]
    },
    {
      "cell_type": "code",
      "metadata": {
        "id": "gF1_Vct6edd9",
        "colab_type": "code",
        "colab": {
          "base_uri": "https://localhost:8080/",
          "height": 85
        },
        "outputId": "ccb68546-799c-438f-b314-b6e860e536a2"
      },
      "source": [
        "print(\"The pets Series has: \\n\", \"Size of: \", pets.size, '\\n', 'Dimension of: ', pets.ndim, '\\n', 'Shape of: ', pets.shape)"
      ],
      "execution_count": 6,
      "outputs": [
        {
          "output_type": "stream",
          "text": [
            "The pets Series has: \n",
            " Size of:  4 \n",
            " Dimension of:  1 \n",
            " Shape of:  (4,)\n"
          ],
          "name": "stdout"
        }
      ]
    },
    {
      "cell_type": "markdown",
      "metadata": {
        "id": "3CNgv8Q1lkLt",
        "colab_type": "text"
      },
      "source": [
        "<li>Size of 4 because it has 4 elements in the dataset, <br><li> Dimension of 1 because as stated above the data structure is a one-dimensional array, <br><li> Shape of (4,) given that the shape is expressed as (row, col). We have 4 rows in  single column."
      ]
    },
    {
      "cell_type": "markdown",
      "metadata": {
        "id": "prd-fNZwnF-W",
        "colab_type": "text"
      },
      "source": [
        "**The IN operator** <br>\n",
        "Similar to membership operators in pure Python, the **in operator **is used to validate the membership of an index in the Pandas Series. \n"
      ]
    },
    {
      "cell_type": "code",
      "metadata": {
        "id": "gSnGC_0UljpT",
        "colab_type": "code",
        "colab": {
          "base_uri": "https://localhost:8080/",
          "height": 51
        },
        "outputId": "f30f090d-eab9-4791-a1c6-595d62e3b638"
      },
      "source": [
        "x = 'rabbits' in pets\n",
        "z = 'Cats' in pets\n",
        "print(\" Are there rabbits?\", x,'\\n', 'what about Cats index?', z)"
      ],
      "execution_count": 12,
      "outputs": [
        {
          "output_type": "stream",
          "text": [
            " Are there rabbits? False \n",
            " what about Cats index? True\n"
          ],
          "name": "stdout"
        }
      ]
    },
    {
      "cell_type": "markdown",
      "metadata": {
        "id": "ro7syU4_tLCl",
        "colab_type": "text"
      },
      "source": [
        "**Access -- Series Elements**"
      ]
    },
    {
      "cell_type": "markdown",
      "metadata": {
        "id": "-ABQDa5_tV6E",
        "colab_type": "text"
      },
      "source": [
        "Ways to access Elements\n",
        "<li> Using Index Labels </li>\n",
        "<li> Numerical indices inside square brackets [ ] </li>\n",
        "<li> Using .loc attribute for index label</li>\n",
        "<li> Using .iloc attribute for numerical index </li>\n"
      ]
    },
    {
      "cell_type": "code",
      "metadata": {
        "id": "o75kYlX1lfi5",
        "colab_type": "code",
        "colab": {
          "base_uri": "https://localhost:8080/",
          "height": 85
        },
        "outputId": "bac61e56-503e-4e63-8877-4d366dec8f37"
      },
      "source": [
        "# Index labels\n",
        "print(pets['Cats'], \"Using the Index Label : Cats\")\n",
        "# Numerical index\n",
        "print(pets[0], \"Using Numerical Index = 0, for the first element\")\n",
        "# Stating to locate label index\n",
        "print(pets.loc['Cats'], \" Using .loc['Cats']\")\n",
        "# Locating by using Numerical index\n",
        "print(pets.iloc[0], \"Numerical index .iloc[0]\")"
      ],
      "execution_count": 30,
      "outputs": [
        {
          "output_type": "stream",
          "text": [
            "2 Using the Index Label : Cats\n",
            "2 Using Numerical Index = 0, for the first element\n",
            "2  Using .loc['Cats']\n",
            "2 Numerical index .iloc[0]\n"
          ],
          "name": "stdout"
        }
      ]
    },
    {
      "cell_type": "code",
      "metadata": {
        "id": "UQ4u0J740tYF",
        "colab_type": "code",
        "colab": {
          "base_uri": "https://localhost:8080/",
          "height": 51
        },
        "outputId": "3902640d-ec24-4433-e4ac-a58423640aff"
      },
      "source": [
        "# if you use double [] the whole series element is returned\n",
        "print(pets[['Cats']])"
      ],
      "execution_count": 31,
      "outputs": [
        {
          "output_type": "stream",
          "text": [
            "Cats    2\n",
            "dtype: object\n"
          ],
          "name": "stdout"
        }
      ]
    },
    {
      "cell_type": "code",
      "metadata": {
        "id": "QGvOFO-Ywtd4",
        "colab_type": "code",
        "colab": {
          "base_uri": "https://localhost:8080/",
          "height": 34
        },
        "outputId": "c7154f47-23b8-47c2-c7b9-bd8e3603016e"
      },
      "source": [
        "print(type(pets[['Cats']]))"
      ],
      "execution_count": 24,
      "outputs": [
        {
          "output_type": "stream",
          "text": [
            "<class 'pandas.core.series.Series'>\n"
          ],
          "name": "stdout"
        }
      ]
    },
    {
      "cell_type": "markdown",
      "metadata": {
        "id": "vEYapiFY1OE3",
        "colab_type": "text"
      },
      "source": [
        "**Multiple indices, either label ones or numerical**\n",
        "\n",
        "In this case, double square brackets are needed, because ['Key'] corresponds to one single element, therefore we need ['key_1'], ['Key_2'], the way we pass multiple indices then become [ ['key_1', ' key_2'] ]"
      ]
    },
    {
      "cell_type": "code",
      "metadata": {
        "id": "Rv-D1J6HxcHT",
        "colab_type": "code",
        "colab": {
          "base_uri": "https://localhost:8080/",
          "height": 68
        },
        "outputId": "ee62d2c7-4324-4b1f-f747-fe72507c47d5"
      },
      "source": [
        "print(pets[['Cats', 'Dogs']])"
      ],
      "execution_count": 34,
      "outputs": [
        {
          "output_type": "stream",
          "text": [
            "Cats    2\n",
            "Dogs    3\n",
            "dtype: object\n"
          ],
          "name": "stdout"
        }
      ]
    },
    {
      "cell_type": "markdown",
      "metadata": {
        "id": "UQ0h__482Jiq",
        "colab_type": "text"
      },
      "source": [
        "Same goes for numerical indices:"
      ]
    },
    {
      "cell_type": "code",
      "metadata": {
        "id": "ZA7Iaoqj1ZVH",
        "colab_type": "code",
        "colab": {
          "base_uri": "https://localhost:8080/",
          "height": 68
        },
        "outputId": "a288bc7a-88bd-4841-aab1-44190e04b390"
      },
      "source": [
        "print(pets[[0,1]])"
      ],
      "execution_count": 35,
      "outputs": [
        {
          "output_type": "stream",
          "text": [
            "Cats    2\n",
            "Dogs    3\n",
            "dtype: object\n"
          ],
          "name": "stdout"
        }
      ]
    },
    {
      "cell_type": "markdown",
      "metadata": {
        "id": "E9o1hz0Z4KT4",
        "colab_type": "text"
      },
      "source": [
        "**Using Drop Method**<br>\n",
        "Items can be deleted by using .drop() method.\n",
        "Syntax:\n",
        "*Series.drop(label)*\n",
        "if the parameter *inplace=True* is not set, the original series remain unchanged"
      ]
    },
    {
      "cell_type": "code",
      "metadata": {
        "id": "fn9Q3qa72Op4",
        "colab_type": "code",
        "colab": {
          "base_uri": "https://localhost:8080/",
          "height": 136
        },
        "outputId": "e7308a0e-8880-452e-df63-2e2ad589190d"
      },
      "source": [
        "print('Using drop() method with inplace False: \\n', pets.drop('Dogs'), '\\n')\n",
        "print(\"As can be seen in the output, Dogs is taken out of place\")"
      ],
      "execution_count": 41,
      "outputs": [
        {
          "output_type": "stream",
          "text": [
            "Using drop() method with inplace False: \n",
            " Cats                   2\n",
            "Older than 1 Year     No\n",
            "Vaccinated           Yes\n",
            "dtype: object \n",
            "\n",
            "As can be seen in the output, Dogs is taken out of place\n"
          ],
          "name": "stdout"
        }
      ]
    },
    {
      "cell_type": "code",
      "metadata": {
        "id": "JshiFwpC5agM",
        "colab_type": "code",
        "colab": {
          "base_uri": "https://localhost:8080/",
          "height": 153
        },
        "outputId": "b536e00a-48b6-4ae1-d05a-d8d69c89ee00"
      },
      "source": [
        "print(\"printing again the pets Series: \\n\", pets, '\\n')\n",
        "print(\"Dogs is back, the original Series remains unchanged\")"
      ],
      "execution_count": 45,
      "outputs": [
        {
          "output_type": "stream",
          "text": [
            "printing again the pets Series: \n",
            " Cats                   2\n",
            "Dogs                   3\n",
            "Older than 1 Year     No\n",
            "Vaccinated           Yes\n",
            "dtype: object \n",
            "\n",
            "Dogs is back, the original Series remains unchanged\n"
          ],
          "name": "stdout"
        }
      ]
    },
    {
      "cell_type": "code",
      "metadata": {
        "id": "kJFlnfNq58I3",
        "colab_type": "code",
        "colab": {}
      },
      "source": [
        "print(\"using drop() and setting inplace parameter to True\", pets.drop('Dogs', inplace=True))\n"
      ],
      "execution_count": 0,
      "outputs": []
    },
    {
      "cell_type": "code",
      "metadata": {
        "id": "uOkLIaxI6zVo",
        "colab_type": "code",
        "colab": {
          "base_uri": "https://localhost:8080/",
          "height": 85
        },
        "outputId": "f867fec7-8918-4f2e-81b5-fe5bf71839e0"
      },
      "source": [
        "pets"
      ],
      "execution_count": 50,
      "outputs": [
        {
          "output_type": "execute_result",
          "data": {
            "text/plain": [
              "Cats                   2\n",
              "Older than 1 Year     No\n",
              "Vaccinated           Yes\n",
              "dtype: object"
            ]
          },
          "metadata": {
            "tags": []
          },
          "execution_count": 50
        }
      ]
    },
    {
      "cell_type": "code",
      "metadata": {
        "id": "y2gZokua7Szk",
        "colab_type": "code",
        "colab": {
          "base_uri": "https://localhost:8080/",
          "height": 34
        },
        "outputId": "dfa2aec6-7b13-4c85-9737-e2ab04129c3a"
      },
      "source": [
        "print(\"the pets series was permanently changed, without dogs\")"
      ],
      "execution_count": 51,
      "outputs": [
        {
          "output_type": "stream",
          "text": [
            "the pets series was permanently changed, without dogs\n"
          ],
          "name": "stdout"
        }
      ]
    },
    {
      "cell_type": "markdown",
      "metadata": {
        "id": "oRHMJd2y77bG",
        "colab_type": "text"
      },
      "source": [
        "**End of basic operations in Pandas Series** <br>\n",
        "The intent of this short tutorials is to bring up to speed newcomers with the basic tools and tasks <br>\n",
        "V1.0 -- William Galindez Arias"
      ]
    }
  ]
}