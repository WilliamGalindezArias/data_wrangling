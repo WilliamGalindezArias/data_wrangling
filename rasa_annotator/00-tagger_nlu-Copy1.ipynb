{
 "cells": [
  {
   "cell_type": "code",
   "execution_count": 1,
   "metadata": {},
   "outputs": [],
   "source": [
    "import nltk\n",
    "from nltk import word_tokenize\n",
    "from nltk.tokenize.treebank import TreebankWordDetokenizer\n",
    "import pandas as pd\n",
    "import json"
   ]
  },
  {
   "cell_type": "code",
   "execution_count": 2,
   "metadata": {},
   "outputs": [],
   "source": [
    "drink_sentences = \"sentences_drink.txt\""
   ]
  },
  {
   "cell_type": "code",
   "execution_count": 3,
   "metadata": {},
   "outputs": [
    {
     "data": {
      "text/html": [
       "<div>\n",
       "<style scoped>\n",
       "    .dataframe tbody tr th:only-of-type {\n",
       "        vertical-align: middle;\n",
       "    }\n",
       "\n",
       "    .dataframe tbody tr th {\n",
       "        vertical-align: top;\n",
       "    }\n",
       "\n",
       "    .dataframe thead th {\n",
       "        text-align: right;\n",
       "    }\n",
       "</style>\n",
       "<table border=\"1\" class=\"dataframe\">\n",
       "  <thead>\n",
       "    <tr style=\"text-align: right;\">\n",
       "      <th></th>\n",
       "      <th>'intent':'order_drink'</th>\n",
       "    </tr>\n",
       "  </thead>\n",
       "  <tbody>\n",
       "    <tr>\n",
       "      <td>5</td>\n",
       "      <td>Mohl bych dostat další sklenici prosím?</td>\n",
       "    </tr>\n",
       "    <tr>\n",
       "      <td>6</td>\n",
       "      <td>Mohu se podívat na vinný lístek prosím?</td>\n",
       "    </tr>\n",
       "    <tr>\n",
       "      <td>7</td>\n",
       "      <td>Mohu vám přinést něco k pití?</td>\n",
       "    </tr>\n",
       "    <tr>\n",
       "      <td>8</td>\n",
       "      <td>Dám si kávu</td>\n",
       "    </tr>\n",
       "    <tr>\n",
       "      <td>9</td>\n",
       "      <td>Mám rád kozel</td>\n",
       "    </tr>\n",
       "    <tr>\n",
       "      <td>10</td>\n",
       "      <td>Chtěl bych kávu.</td>\n",
       "    </tr>\n",
       "    <tr>\n",
       "      <td>11</td>\n",
       "      <td>ja si Dám Pilsner Urquell</td>\n",
       "    </tr>\n",
       "    <tr>\n",
       "      <td>12</td>\n",
       "      <td>pivo prosím</td>\n",
       "    </tr>\n",
       "    <tr>\n",
       "      <td>13</td>\n",
       "      <td>Mám rád kávu</td>\n",
       "    </tr>\n",
       "    <tr>\n",
       "      <td>14</td>\n",
       "      <td>Mám rád kolu</td>\n",
       "    </tr>\n",
       "  </tbody>\n",
       "</table>\n",
       "</div>"
      ],
      "text/plain": [
       "                     'intent':'order_drink'\n",
       "5   Mohl bych dostat další sklenici prosím?\n",
       "6   Mohu se podívat na vinný lístek prosím?\n",
       "7             Mohu vám přinést něco k pití?\n",
       "8                             Dám si kávu\n",
       "9                           Mám rád kozel\n",
       "10                       Chtěl bych kávu.\n",
       "11               ja si Dám Pilsner Urquell\n",
       "12                              pivo prosím\n",
       "13                          Mám rád kávu\n",
       "14                           Mám rád kolu"
      ]
     },
     "execution_count": 3,
     "metadata": {},
     "output_type": "execute_result"
    }
   ],
   "source": [
    "sentences_df = pd.read_csv(drink_sentences, header=0)\n",
    "sentences_df.tail(10)"
   ]
  },
  {
   "cell_type": "code",
   "execution_count": 4,
   "metadata": {},
   "outputs": [],
   "source": [
    "def listing(sentence):\n",
    "    return [sentence]\n",
    "\n",
    "def tokenize_sentence(sentence):\n",
    "    tk = word_tokenize(sentence[0])\n",
    "    return tk\n",
    "\n",
    "def tagger(sentence, entity, label):\n",
    "    \n",
    "    detkn = TreebankWordDetokenizer()\n",
    "        \n",
    "    try: \n",
    "        \n",
    "        if entity in sentence:\n",
    "            \n",
    "            out = []\n",
    "            \n",
    "            index_selector = sentence.index(entity)\n",
    "            for counter, word in enumerate(sentence,0):\n",
    "                \n",
    "                if counter != index_selector:\n",
    "                    \n",
    "                    out.append(word)\n",
    "                elif counter == index_selector:\n",
    "                    matcher = '['+ word +']'\n",
    "                    out.append(matcher)\n",
    "                    if sentence[-1] != word:\n",
    "                        #[Dám, si, kávu]\n",
    "                        out.append(sentence[-1])\n",
    "                    index_finder = out.index(matcher)\n",
    "                    out.insert(index_finder+1, (label))\n",
    "                    sentence_out = detkn.detokenize(out)\n",
    "                    \n",
    "            return sentence_out\n",
    "        \n",
    "        else:\n",
    "            \n",
    "            return sentence\n",
    "    \n",
    "    except: \n",
    "        return sentence\n",
    "        \n",
    "def untokenizer(sentence):\n",
    "    if isinstance(sentence, list):\n",
    "        detkn = TreebankWordDetokenizer()\n",
    "        sentence = detkn.detokenize(sentence)\n",
    "        return sentence  \n",
    "    else:\n",
    "        return sentence"
   ]
  },
  {
   "cell_type": "code",
   "execution_count": 5,
   "metadata": {},
   "outputs": [],
   "source": [
    "sentences_df[\"'intent':'order_drink'\"] = sentences_df[\"'intent':'order_drink'\"].apply(listing)\n",
    "sentences_df[\"'intent':'order_drink'\"] = sentences_df[\"'intent':'order_drink'\"].apply(tokenize_sentence)\n"
   ]
  },
  {
   "cell_type": "code",
   "execution_count": 6,
   "metadata": {},
   "outputs": [],
   "source": [
    "entities = ['pivo', 'kávu', 'kolu', 'kozel']\n",
    "label = '(drink)'\n",
    "for entity in entities:\n",
    "    sentences_df[\"'intent':'order_drink'\"] = sentences_df[\"'intent':'order_drink'\"].apply(tagger,entity= entity, label=label)\n",
    "  \n",
    "    "
   ]
  },
  {
   "cell_type": "code",
   "execution_count": 7,
   "metadata": {},
   "outputs": [
    {
     "data": {
      "text/html": [
       "<div>\n",
       "<style scoped>\n",
       "    .dataframe tbody tr th:only-of-type {\n",
       "        vertical-align: middle;\n",
       "    }\n",
       "\n",
       "    .dataframe tbody tr th {\n",
       "        vertical-align: top;\n",
       "    }\n",
       "\n",
       "    .dataframe thead th {\n",
       "        text-align: right;\n",
       "    }\n",
       "</style>\n",
       "<table border=\"1\" class=\"dataframe\">\n",
       "  <thead>\n",
       "    <tr style=\"text-align: right;\">\n",
       "      <th></th>\n",
       "      <th>'intent':'order_drink'</th>\n",
       "    </tr>\n",
       "  </thead>\n",
       "  <tbody>\n",
       "    <tr>\n",
       "      <td>0</td>\n",
       "      <td>jedno [pivo] (drink) prosim</td>\n",
       "    </tr>\n",
       "    <tr>\n",
       "      <td>1</td>\n",
       "      <td>Dáte si ješte jedno [pivo] (drink)?</td>\n",
       "    </tr>\n",
       "    <tr>\n",
       "      <td>2</td>\n",
       "      <td>[Chtěl, bych, dolít, prosím, !]</td>\n",
       "    </tr>\n",
       "    <tr>\n",
       "      <td>3</td>\n",
       "      <td>[Chtěl, bych, láhev, vína, prosím, .]</td>\n",
       "    </tr>\n",
       "    <tr>\n",
       "      <td>4</td>\n",
       "      <td>[Mohl, bych, dostat, sklenku, perlivé, vody, ?]</td>\n",
       "    </tr>\n",
       "    <tr>\n",
       "      <td>5</td>\n",
       "      <td>[Mohl, bych, dostat, další, sklenici, prosím, ?]</td>\n",
       "    </tr>\n",
       "    <tr>\n",
       "      <td>6</td>\n",
       "      <td>[Mohu, se, podívat, na, vinný, lístek, prosím, ?]</td>\n",
       "    </tr>\n",
       "    <tr>\n",
       "      <td>7</td>\n",
       "      <td>[Mohu, vám, přinést, něco, k, pití, ?]</td>\n",
       "    </tr>\n",
       "    <tr>\n",
       "      <td>8</td>\n",
       "      <td>Dám si [kávu] (drink)</td>\n",
       "    </tr>\n",
       "    <tr>\n",
       "      <td>9</td>\n",
       "      <td>Mám rád [kozel] (drink)</td>\n",
       "    </tr>\n",
       "    <tr>\n",
       "      <td>10</td>\n",
       "      <td>Chtěl bych [kávu] (drink).</td>\n",
       "    </tr>\n",
       "    <tr>\n",
       "      <td>11</td>\n",
       "      <td>[ja, si, Dám, Pilsner, Urquell]</td>\n",
       "    </tr>\n",
       "    <tr>\n",
       "      <td>12</td>\n",
       "      <td>[pivo] (drink) prosím</td>\n",
       "    </tr>\n",
       "    <tr>\n",
       "      <td>13</td>\n",
       "      <td>Mám rád [kávu] (drink)</td>\n",
       "    </tr>\n",
       "    <tr>\n",
       "      <td>14</td>\n",
       "      <td>Mám rád [kolu] (drink)</td>\n",
       "    </tr>\n",
       "  </tbody>\n",
       "</table>\n",
       "</div>"
      ],
      "text/plain": [
       "                               'intent':'order_drink'\n",
       "0                         jedno [pivo] (drink) prosim\n",
       "1               Dáte si ješte jedno [pivo] (drink)?\n",
       "2                     [Chtěl, bych, dolít, prosím, !]\n",
       "3               [Chtěl, bych, láhev, vína, prosím, .]\n",
       "4     [Mohl, bych, dostat, sklenku, perlivé, vody, ?]\n",
       "5    [Mohl, bych, dostat, další, sklenici, prosím, ?]\n",
       "6   [Mohu, se, podívat, na, vinný, lístek, prosím, ?]\n",
       "7              [Mohu, vám, přinést, něco, k, pití, ?]\n",
       "8                             Dám si [kávu] (drink)\n",
       "9                           Mám rád [kozel] (drink)\n",
       "10                       Chtěl bych [kávu] (drink).\n",
       "11                   [ja, si, Dám, Pilsner, Urquell]\n",
       "12                              [pivo] (drink) prosím\n",
       "13                          Mám rád [kávu] (drink)\n",
       "14                           Mám rád [kolu] (drink)"
      ]
     },
     "execution_count": 7,
     "metadata": {},
     "output_type": "execute_result"
    }
   ],
   "source": [
    "sentences_df"
   ]
  },
  {
   "cell_type": "code",
   "execution_count": 8,
   "metadata": {},
   "outputs": [],
   "source": [
    "sentences_df[\"'intent':'order_drink'\"] = sentences_df[\"'intent':'order_drink'\"].apply(untokenizer)"
   ]
  },
  {
   "cell_type": "code",
   "execution_count": 9,
   "metadata": {},
   "outputs": [
    {
     "data": {
      "text/html": [
       "<div>\n",
       "<style scoped>\n",
       "    .dataframe tbody tr th:only-of-type {\n",
       "        vertical-align: middle;\n",
       "    }\n",
       "\n",
       "    .dataframe tbody tr th {\n",
       "        vertical-align: top;\n",
       "    }\n",
       "\n",
       "    .dataframe thead th {\n",
       "        text-align: right;\n",
       "    }\n",
       "</style>\n",
       "<table border=\"1\" class=\"dataframe\">\n",
       "  <thead>\n",
       "    <tr style=\"text-align: right;\">\n",
       "      <th></th>\n",
       "      <th>'intent':'order_drink'</th>\n",
       "    </tr>\n",
       "  </thead>\n",
       "  <tbody>\n",
       "    <tr>\n",
       "      <td>0</td>\n",
       "      <td>jedno [pivo] (drink) prosim</td>\n",
       "    </tr>\n",
       "    <tr>\n",
       "      <td>1</td>\n",
       "      <td>Dáte si ješte jedno [pivo] (drink)?</td>\n",
       "    </tr>\n",
       "    <tr>\n",
       "      <td>2</td>\n",
       "      <td>Chtěl bych dolít prosím!</td>\n",
       "    </tr>\n",
       "    <tr>\n",
       "      <td>3</td>\n",
       "      <td>Chtěl bych láhev vína prosím.</td>\n",
       "    </tr>\n",
       "    <tr>\n",
       "      <td>4</td>\n",
       "      <td>Mohl bych dostat sklenku perlivé vody?</td>\n",
       "    </tr>\n",
       "    <tr>\n",
       "      <td>5</td>\n",
       "      <td>Mohl bych dostat další sklenici prosím?</td>\n",
       "    </tr>\n",
       "    <tr>\n",
       "      <td>6</td>\n",
       "      <td>Mohu se podívat na vinný lístek prosím?</td>\n",
       "    </tr>\n",
       "    <tr>\n",
       "      <td>7</td>\n",
       "      <td>Mohu vám přinést něco k pití?</td>\n",
       "    </tr>\n",
       "    <tr>\n",
       "      <td>8</td>\n",
       "      <td>Dám si [kávu] (drink)</td>\n",
       "    </tr>\n",
       "    <tr>\n",
       "      <td>9</td>\n",
       "      <td>Mám rád [kozel] (drink)</td>\n",
       "    </tr>\n",
       "    <tr>\n",
       "      <td>10</td>\n",
       "      <td>Chtěl bych [kávu] (drink).</td>\n",
       "    </tr>\n",
       "    <tr>\n",
       "      <td>11</td>\n",
       "      <td>ja si Dám Pilsner Urquell</td>\n",
       "    </tr>\n",
       "    <tr>\n",
       "      <td>12</td>\n",
       "      <td>[pivo] (drink) prosím</td>\n",
       "    </tr>\n",
       "    <tr>\n",
       "      <td>13</td>\n",
       "      <td>Mám rád [kávu] (drink)</td>\n",
       "    </tr>\n",
       "    <tr>\n",
       "      <td>14</td>\n",
       "      <td>Mám rád [kolu] (drink)</td>\n",
       "    </tr>\n",
       "  </tbody>\n",
       "</table>\n",
       "</div>"
      ],
      "text/plain": [
       "                     'intent':'order_drink'\n",
       "0               jedno [pivo] (drink) prosim\n",
       "1     Dáte si ješte jedno [pivo] (drink)?\n",
       "2                  Chtěl bych dolít prosím!\n",
       "3             Chtěl bych láhev vína prosím.\n",
       "4    Mohl bych dostat sklenku perlivé vody?\n",
       "5   Mohl bych dostat další sklenici prosím?\n",
       "6   Mohu se podívat na vinný lístek prosím?\n",
       "7             Mohu vám přinést něco k pití?\n",
       "8                   Dám si [kávu] (drink)\n",
       "9                 Mám rád [kozel] (drink)\n",
       "10             Chtěl bych [kávu] (drink).\n",
       "11               ja si Dám Pilsner Urquell\n",
       "12                    [pivo] (drink) prosím\n",
       "13                Mám rád [kávu] (drink)\n",
       "14                 Mám rád [kolu] (drink)"
      ]
     },
     "execution_count": 9,
     "metadata": {},
     "output_type": "execute_result"
    }
   ],
   "source": [
    "sentences_df"
   ]
  },
  {
   "cell_type": "code",
   "execution_count": 10,
   "metadata": {},
   "outputs": [],
   "source": [
    "# write to json format the sentences\n",
    "# generate the .md"
   ]
  },
  {
   "cell_type": "markdown",
   "metadata": {},
   "source": [
    "#### the data structure\n",
    "[\n",
    "    {\n",
    "        \"intent\": \"order_drink\",\n",
    "        \"text\": \"Chtěl bych kávu\",\n",
    "        \"index\": 0\n",
    "    }\n",
    "]"
   ]
  },
  {
   "cell_type": "code",
   "execution_count": 21,
   "metadata": {},
   "outputs": [],
   "source": [
    "dataset = []\n",
    "for i, sentence in enumerate(sentences_df[\"'intent':'order_drink'\"],0):\n",
    "    dataset.append(json.dumps({\"intent\": \"order_drink\",\n",
    "                              \"text\":sentences_df[\"'intent':'order_drink'\"][i],\n",
    "                               \"index\": i\n",
    "                              }, ensure_ascii=False).encode('utf-8'))"
   ]
  },
  {
   "cell_type": "code",
   "execution_count": 27,
   "metadata": {},
   "outputs": [
    {
     "data": {
      "text/plain": [
       "[b'{\"intent\": \"order_drink\", \"text\": \"jedno [pivo] (drink) prosim\", \"index\": 0}',\n",
       " b'{\"intent\": \"order_drink\", \"text\": \"Da\\xcc\\x81te si jes\\xcc\\x8cte jedno [pivo] (drink)?\", \"index\": 1}',\n",
       " b'{\"intent\": \"order_drink\", \"text\": \"Cht\\xc4\\x9bl bych dol\\xc3\\xadt pros\\xc3\\xadm!\", \"index\": 2}',\n",
       " b'{\"intent\": \"order_drink\", \"text\": \"Cht\\xc4\\x9bl bych l\\xc3\\xa1hev v\\xc3\\xadna pros\\xc3\\xadm.\", \"index\": 3}',\n",
       " b'{\"intent\": \"order_drink\", \"text\": \"Mohl bych dostat sklenku perliv\\xc3\\xa9 vody?\", \"index\": 4}',\n",
       " b'{\"intent\": \"order_drink\", \"text\": \"Mohl bych dostat dal\\xc5\\xa1\\xc3\\xad sklenici pros\\xc3\\xadm?\", \"index\": 5}',\n",
       " b'{\"intent\": \"order_drink\", \"text\": \"Mohu se pod\\xc3\\xadvat na vinn\\xc3\\xbd l\\xc3\\xadstek pros\\xc3\\xadm?\", \"index\": 6}',\n",
       " b'{\"intent\": \"order_drink\", \"text\": \"Mohu v\\xc3\\xa1m p\\xc5\\x99in\\xc3\\xa9st n\\xc4\\x9bco k pit\\xc3\\xad?\", \"index\": 7}',\n",
       " b'{\"intent\": \"order_drink\", \"text\": \"Da\\xcc\\x81m si [ka\\xcc\\x81vu] (drink)\", \"index\": 8}',\n",
       " b'{\"intent\": \"order_drink\", \"text\": \"Ma\\xcc\\x81m ra\\xcc\\x81d [kozel] (drink)\", \"index\": 9}',\n",
       " b'{\"intent\": \"order_drink\", \"text\": \"Chte\\xcc\\x8cl bych [ka\\xcc\\x81vu] (drink).\", \"index\": 10}',\n",
       " b'{\"intent\": \"order_drink\", \"text\": \"ja si Da\\xcc\\x81m Pilsner Urquell\", \"index\": 11}',\n",
       " b'{\"intent\": \"order_drink\", \"text\": \"[pivo] (drink) pros\\xc3\\xadm\", \"index\": 12}',\n",
       " b'{\"intent\": \"order_drink\", \"text\": \"Ma\\xcc\\x81m ra\\xcc\\x81d [ka\\xcc\\x81vu] (drink)\", \"index\": 13}',\n",
       " b'{\"intent\": \"order_drink\", \"text\": \"Ma\\xcc\\x81m ra\\xcc\\x81d [kolu] (drink)\", \"index\": 14}']"
      ]
     },
     "execution_count": 27,
     "metadata": {},
     "output_type": "execute_result"
    }
   ],
   "source": [
    "dataset"
   ]
  },
  {
   "cell_type": "code",
   "execution_count": 29,
   "metadata": {},
   "outputs": [],
   "source": [
    "dataset_nn = []\n",
    "for i, sentence in enumerate(sentences_df[\"'intent':'order_drink'\"],0):\n",
    "    dataset_nn.append({\"intent\": \"order_drink\",\n",
    "                    \"text\":sentences_df[\"'intent':'order_drink'\"][i],\n",
    "                    \"index\": i\n",
    "                    })"
   ]
  },
  {
   "cell_type": "code",
   "execution_count": 31,
   "metadata": {},
   "outputs": [
    {
     "data": {
      "text/plain": [
       "{'intent': 'order_drink',\n",
       " 'text': 'Mohl bych dostat sklenku perlivé vody?',\n",
       " 'index': 4}"
      ]
     },
     "execution_count": 31,
     "metadata": {},
     "output_type": "execute_result"
    }
   ],
   "source": [
    "dataset_nn[4]"
   ]
  },
  {
   "cell_type": "code",
   "execution_count": 33,
   "metadata": {},
   "outputs": [],
   "source": [
    "# the dataset_nn I have to write to json later, and this one will be used to be converted to md then NN tagged\n",
    "\n",
    "with open('training_data.json', 'w', encoding='utf8') as json_file:\n",
    "    json.dump(dataset_nn, json_file, ensure_ascii=False, indent=4)"
   ]
  },
  {
   "cell_type": "code",
   "execution_count": null,
   "metadata": {},
   "outputs": [],
   "source": []
  }
 ],
 "metadata": {
  "kernelspec": {
   "display_name": "Python 3",
   "language": "python",
   "name": "python3"
  },
  "language_info": {
   "codemirror_mode": {
    "name": "ipython",
    "version": 3
   },
   "file_extension": ".py",
   "mimetype": "text/x-python",
   "name": "python",
   "nbconvert_exporter": "python",
   "pygments_lexer": "ipython3",
   "version": "3.6.9"
  }
 },
 "nbformat": 4,
 "nbformat_minor": 2
}
